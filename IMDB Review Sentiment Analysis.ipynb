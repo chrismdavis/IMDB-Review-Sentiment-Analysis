{
 "cells": [
  {
   "cell_type": "markdown",
   "id": "4363ea37",
   "metadata": {},
   "source": [
    "# <center> IMDB Review Sentiment Analysis <br> Using Tensorflow-Keras Neural Network</center>\n"
   ]
  },
  {
   "cell_type": "markdown",
   "id": "5fd6bd00",
   "metadata": {},
   "source": [
    "#### <center>Chris Davis <br> October, 2021 <br> [View in Github](https://github.com/chrismdavis/IMDB-Review-Sentiment-Analysis/blob/main/IMDB%20Review%20Sentiment%20Analysis.ipynb) </center>"
   ]
  },
  {
   "cell_type": "markdown",
   "id": "146adf6c",
   "metadata": {},
   "source": [
    "## Table of Contents:\n",
    "\n",
    "- ***[Importing Libraries](#Importing-Libraries)***\n",
    "- ***[Preprocessing Text](#Preprocessing-Text)***\n",
    "- ***[Adding GloVe embedded layer](#Adding-GloVe-embedded-layer)***\n",
    "- ***[Model Building](#Model-BUilding)***\n",
    "- ***[Model Fitting and Performance](#Model-Fitting-and-Performance)***\n",
    "- ***[Citations](#Citations)***"
   ]
  },
  {
   "cell_type": "markdown",
   "id": "44b24711",
   "metadata": {},
   "source": [
    "### Importing Libraries"
   ]
  },
  {
   "cell_type": "code",
   "execution_count": 1,
   "id": "12c86c92",
   "metadata": {},
   "outputs": [],
   "source": [
    "import pandas as pd\n",
    "import numpy as np\n",
    "import regex as re\n",
    "import matplotlib.pyplot as plt\n",
    "from sklearn.model_selection import train_test_split\n",
    "from tensorflow import keras\n",
    "from tensorflow.keras import layers\n",
    "from tensorflow.keras.callbacks import EarlyStopping\n",
    "from tensorflow.keras.preprocessing.text import Tokenizer\n",
    "from tensorflow.keras.preprocessing.sequence import pad_sequences\n",
    "import nltk\n",
    "from nltk.corpus import stopwords\n",
    "from nltk.stem import WordNetLemmatizer\n",
    "# nltk.download('stopwords')\n",
    "# nltk.download('punkt')\n",
    "# nltk.download('wordnet')\n",
    "\n",
    "%matplotlib inline"
   ]
  },
  {
   "cell_type": "markdown",
   "id": "a05e691a",
   "metadata": {},
   "source": [
    "### Preprocessing Text"
   ]
  },
  {
   "cell_type": "code",
   "execution_count": 2,
   "id": "bfd74c08",
   "metadata": {
    "scrolled": false
   },
   "outputs": [
    {
     "data": {
      "text/html": [
       "<div>\n",
       "<style scoped>\n",
       "    .dataframe tbody tr th:only-of-type {\n",
       "        vertical-align: middle;\n",
       "    }\n",
       "\n",
       "    .dataframe tbody tr th {\n",
       "        vertical-align: top;\n",
       "    }\n",
       "\n",
       "    .dataframe thead th {\n",
       "        text-align: right;\n",
       "    }\n",
       "</style>\n",
       "<table border=\"1\" class=\"dataframe\">\n",
       "  <thead>\n",
       "    <tr style=\"text-align: right;\">\n",
       "      <th></th>\n",
       "      <th>Comment</th>\n",
       "      <th>Sentiment</th>\n",
       "    </tr>\n",
       "  </thead>\n",
       "  <tbody>\n",
       "    <tr>\n",
       "      <th>0</th>\n",
       "      <td>With all this stuff going down at the moment w...</td>\n",
       "      <td>1</td>\n",
       "    </tr>\n",
       "    <tr>\n",
       "      <th>1</th>\n",
       "      <td>'The Classic War of the Worlds' by Timothy Hin...</td>\n",
       "      <td>1</td>\n",
       "    </tr>\n",
       "    <tr>\n",
       "      <th>2</th>\n",
       "      <td>The film starts with a manager (Nicholas Bell)...</td>\n",
       "      <td>0</td>\n",
       "    </tr>\n",
       "    <tr>\n",
       "      <th>3</th>\n",
       "      <td>It must be assumed that those who praised this...</td>\n",
       "      <td>0</td>\n",
       "    </tr>\n",
       "    <tr>\n",
       "      <th>4</th>\n",
       "      <td>Superbly trashy and wondrously unpretentious 8...</td>\n",
       "      <td>1</td>\n",
       "    </tr>\n",
       "    <tr>\n",
       "      <th>5</th>\n",
       "      <td>I dont know why people think this is such a ba...</td>\n",
       "      <td>1</td>\n",
       "    </tr>\n",
       "    <tr>\n",
       "      <th>6</th>\n",
       "      <td>This movie could have been very good, but come...</td>\n",
       "      <td>0</td>\n",
       "    </tr>\n",
       "    <tr>\n",
       "      <th>7</th>\n",
       "      <td>I watched this video at a friend's house. I'm ...</td>\n",
       "      <td>0</td>\n",
       "    </tr>\n",
       "    <tr>\n",
       "      <th>8</th>\n",
       "      <td>A friend of mine bought this film for £1, and ...</td>\n",
       "      <td>0</td>\n",
       "    </tr>\n",
       "    <tr>\n",
       "      <th>9</th>\n",
       "      <td>This movie is full of references. Like 'Mad ...</td>\n",
       "      <td>1</td>\n",
       "    </tr>\n",
       "  </tbody>\n",
       "</table>\n",
       "</div>"
      ],
      "text/plain": [
       "                                             Comment  Sentiment\n",
       "0  With all this stuff going down at the moment w...          1\n",
       "1  'The Classic War of the Worlds' by Timothy Hin...          1\n",
       "2  The film starts with a manager (Nicholas Bell)...          0\n",
       "3  It must be assumed that those who praised this...          0\n",
       "4  Superbly trashy and wondrously unpretentious 8...          1\n",
       "5  I dont know why people think this is such a ba...          1\n",
       "6  This movie could have been very good, but come...          0\n",
       "7  I watched this video at a friend's house. I'm ...          0\n",
       "8  A friend of mine bought this film for £1, and ...          0\n",
       "9    This movie is full of references. Like 'Mad ...          1"
      ]
     },
     "execution_count": 2,
     "metadata": {},
     "output_type": "execute_result"
    }
   ],
   "source": [
    "#Import raw data file\n",
    "#df_raw = pd.read_csv('Amazon Labeled Comments.csv', sep=',')\n",
    "df_raw = pd.read_csv('IMDB Reviews.csv', sep=',')\n",
    "\n",
    "#View raw data\n",
    "df_raw.head(10)"
   ]
  },
  {
   "cell_type": "markdown",
   "id": "30ea779d",
   "metadata": {},
   "source": [
    "***- Perform text standarization, stopword removal, and lemmatization:***"
   ]
  },
  {
   "cell_type": "code",
   "execution_count": 3,
   "id": "090cd40b",
   "metadata": {},
   "outputs": [],
   "source": [
    "# Define regex cleaning function\n",
    "def text_clean(data):\n",
    "    # Convert to lower\n",
    "    data = data.lower()\n",
    "\n",
    "    # Remove new lines\n",
    "    data = re.sub('\\s+', ' ', data)\n",
    "\n",
    "    # Convert ?!. to \" \"\n",
    "    data = re.sub('[?!]', '.', data)\n",
    "\n",
    "    # Remove non alpha characters\n",
    "    data = re.sub('[^a-zA-Z\\']', ' ', data)\n",
    "\n",
    "    # Remove multiple spaces\n",
    "    data = re.sub(' +', ' ', data)\n",
    "\n",
    "    return data\n",
    "\n",
    "# Define remove stopwords function\n",
    "stop = set(stopwords.words(\"english\"))\n",
    "\n",
    "def remove_stopwords(text):\n",
    "    filtered_words = [word for word in text.split() if word not in stop]\n",
    "    return \" \".join(filtered_words)\n",
    "\n",
    "# Define lemmatization function\n",
    "Ltzr = WordNetLemmatizer()\n",
    "\n",
    "def word_lemmatizer(text):\n",
    "    filtered_words = [Ltzr.lemmatize(word) for word in text.split()]\n",
    "    return \" \".join(filtered_words)\n",
    "\n",
    "# Create copy of raw data for processing\n",
    "df_clean = df_raw.copy()\n",
    "\n",
    "# Clean/standardize text\n",
    "df_clean.Comment = df_clean.Comment.apply(lambda x: text_clean(x))\n",
    "\n",
    "# Remove stopwords\n",
    "df_clean.Comment = df_clean.Comment.apply(lambda x: remove_stopwords(x))\n",
    "\n",
    "# Lemmatize\n",
    "df_clean.Comment = df_clean.Comment.apply(lambda x: word_lemmatizer(x))"
   ]
  },
  {
   "cell_type": "markdown",
   "id": "b3fc0845",
   "metadata": {},
   "source": [
    "***- Define test/train split and tokenize:***"
   ]
  },
  {
   "cell_type": "code",
   "execution_count": 5,
   "id": "6f5dcfff",
   "metadata": {
    "scrolled": true
   },
   "outputs": [],
   "source": [
    "# Split to test/train\n",
    "X_train, X_test, Y_train, Y_test = train_test_split(df_clean.Comment,\n",
    "                                                    df_clean.Sentiment,\n",
    "                                                    random_state=42,\n",
    "                                                    test_size=0.2)\n",
    "# Tokenize\n",
    "tokenizer = Tokenizer(oov_token='OOV')\n",
    "tokenizer.fit_on_texts(X_train)\n",
    "\n",
    "X_train = tokenizer.texts_to_sequences(X_train)\n",
    "X_test = tokenizer.texts_to_sequences(X_test)\n",
    "\n",
    "num_words = len(tokenizer.word_index) + 1\n",
    "unique_words = list(tokenizer.word_index.keys())"
   ]
  },
  {
   "cell_type": "markdown",
   "id": "7531586e",
   "metadata": {},
   "source": [
    "***- Pad sequences:***"
   ]
  },
  {
   "cell_type": "code",
   "execution_count": 6,
   "id": "b83bbb9e",
   "metadata": {},
   "outputs": [
    {
     "data": {
      "text/plain": [
       "Text(0.5, 1.0, 'Comment Length')"
      ]
     },
     "execution_count": 6,
     "metadata": {},
     "output_type": "execute_result"
    },
    {
     "data": {
      "image/png": "[encoded data removed]",
      "text/plain": [
       "<Figure size 432x288 with 1 Axes>"
      ]
     },
     "metadata": {
      "needs_background": "light"
     },
     "output_type": "display_data"
    }
   ],
   "source": [
    "# View comment length histogram to set max pad length\n",
    "plt.hist([len(i) for i in X_train])\n",
    "plt.xlabel(\"Word Count\")\n",
    "plt.ylabel(\"Occurence Count\")\n",
    "plt.title(\"Comment Length\")"
   ]
  },
  {
   "cell_type": "code",
   "execution_count": 7,
   "id": "1710f753",
   "metadata": {},
   "outputs": [],
   "source": [
    "# Pad Sequences\n",
    "max_length = 300\n",
    "X_train = pad_sequences(X_train, maxlen=max_length)\n",
    "X_test = pad_sequences(X_test, maxlen=max_length)"
   ]
  },
  {
   "cell_type": "markdown",
   "id": "8b69f962",
   "metadata": {},
   "source": [
    "### Adding GloVe embedded layer"
   ]
  },
  {
   "cell_type": "markdown",
   "id": "f5fe386f",
   "metadata": {},
   "source": [
    "***- Creating trained GloVe embedded layer:***"
   ]
  },
  {
   "cell_type": "code",
   "execution_count": 8,
   "id": "b3452758",
   "metadata": {},
   "outputs": [],
   "source": [
    "#Create GloVe embedding layer\n",
    "embeddings_index = {}\n",
    "with open(\"Glove Data\\glove.6B.100d.txt\", encoding=\"utf8\") as f:\n",
    "    for line in f:\n",
    "        values = line.split()\n",
    "        word = values[0]\n",
    "        coefs = np.asarray(values[1:], dtype='float32')\n",
    "        embeddings_index[word] = coefs\n",
    "\n",
    "embedding_matrix = np.zeros((num_words, 100))\n",
    "\n",
    "for word, i in tokenizer.word_index.items():\n",
    "    embedding_vector = embeddings_index.get(word)\n",
    "    if embedding_vector is not None:\n",
    "        embedding_matrix[i] = embedding_vector\n"
   ]
  },
  {
   "cell_type": "markdown",
   "id": "d55b1f34",
   "metadata": {},
   "source": [
    "### Model Building"
   ]
  },
  {
   "cell_type": "markdown",
   "id": "7bbc23b7",
   "metadata": {},
   "source": [
    "***- Building Keras sequential model:***"
   ]
  },
  {
   "cell_type": "code",
   "execution_count": 9,
   "id": "d6c1723a",
   "metadata": {},
   "outputs": [
    {
     "name": "stdout",
     "output_type": "stream",
     "text": [
      "Model: \"sequential\"\n",
      "_________________________________________________________________\n",
      " Layer (type)                Output Shape              Param #   \n",
      "=================================================================\n",
      " embedding (Embedding)       (None, 300, 100)          8262900   \n",
      "                                                                 \n",
      " spatial_dropout1d (SpatialD  (None, 300, 100)         0         \n",
      " ropout1D)                                                       \n",
      "                                                                 \n",
      " lstm (LSTM)                 (None, 64)                42240     \n",
      "                                                                 \n",
      " dense (Dense)               (None, 1)                 65        \n",
      "                                                                 \n",
      "=================================================================\n",
      "Total params: 8,305,205\n",
      "Trainable params: 42,305\n",
      "Non-trainable params: 8,262,900\n",
      "_________________________________________________________________\n"
     ]
    }
   ],
   "source": [
    "# Create model\n",
    "model = keras.models.Sequential()\n",
    "model.add(layers.Embedding(num_words, 100, weights=[embedding_matrix], input_length=max_length, trainable=False))\n",
    "model.add(layers.SpatialDropout1D(0.4))\n",
    "model.add(layers.LSTM(64, dropout=0.1))\n",
    "model.add(layers.Dense(1, activation=\"sigmoid\"))\n",
    "\n",
    "# Loss function\n",
    "loss = keras.losses.BinaryCrossentropy(from_logits=False)\n",
    "\n",
    "#optimizer\n",
    "optim = keras.optimizers.Adam(learning_rate=0.001)\n",
    "\n",
    "#Define metrics\n",
    "metrics = [\"accuracy\"]\n",
    "\n",
    "#Define early stopping metrics\n",
    "early_stopping = EarlyStopping(monitor='val_accuracy', patience =5, mode = 'max')\n",
    "\n",
    "#Compile model\n",
    "model.compile(loss='binary_crossentropy', optimizer=optim, metrics=metrics)\n",
    "\n",
    "#Print model summary\n",
    "model.summary()\n"
   ]
  },
  {
   "cell_type": "markdown",
   "id": "9a87c6f8",
   "metadata": {},
   "source": [
    "### Model Composition:\n",
    "    \n",
    "***Embedded Layer:*** GloVe embedded layer\n",
    "\n",
    "***Dropout Layer:*** Added to prevent over-fitting\n",
    "\n",
    "***LSTM Layer:*** Stacked long short-term memory\n",
    "\n",
    "***Dense Layer:*** Sigmoid activation binary output\n",
    "\n",
    "\n",
    "### Model Parameters:\n",
    "\n",
    "***loss function:***\n",
    "Cross entropy loss function applied with out logistic fitting because the sigmoid function was already applied in the activation function.\n",
    "\n",
    "***optimizer:***\n",
    "'Adam' optimizer used (stochastic gradient descent method).\n",
    "\n",
    "***stopping criteria:***\n",
    "Stopping criteria is evaluated on the accuracy of the test set predictions as this is the metric I am trying to maximize. If there are 10 epochs of decreasing accuracy, then the model will stop fitting prematurely.\n",
    "\n",
    "***evaluation metric:***\n",
    "The model is tuned to maximize prediction accuracy"
   ]
  },
  {
   "cell_type": "markdown",
   "id": "388f7450",
   "metadata": {},
   "source": [
    "### Model Fitting and Performance"
   ]
  },
  {
   "cell_type": "code",
   "execution_count": 10,
   "id": "6a75f7c5",
   "metadata": {
    "scrolled": true
   },
   "outputs": [
    {
     "name": "stdout",
     "output_type": "stream",
     "text": [
      "Epoch 1/50\n",
      "625/625 - 50s - loss: 0.5834 - accuracy: 0.6924 - val_loss: 0.4671 - val_accuracy: 0.7860 - 50s/epoch - 81ms/step\n",
      "Epoch 2/50\n",
      "625/625 - 47s - loss: 0.4908 - accuracy: 0.7668 - val_loss: 0.4105 - val_accuracy: 0.8162 - 47s/epoch - 75ms/step\n",
      "Epoch 3/50\n",
      "625/625 - 40s - loss: 0.4466 - accuracy: 0.7912 - val_loss: 0.3664 - val_accuracy: 0.8404 - 40s/epoch - 64ms/step\n",
      "Epoch 4/50\n",
      "625/625 - 40s - loss: 0.4161 - accuracy: 0.8101 - val_loss: 0.3562 - val_accuracy: 0.8460 - 40s/epoch - 64ms/step\n",
      "Epoch 5/50\n",
      "625/625 - 40s - loss: 0.3995 - accuracy: 0.8191 - val_loss: 0.3399 - val_accuracy: 0.8568 - 40s/epoch - 63ms/step\n",
      "Epoch 6/50\n",
      "625/625 - 40s - loss: 0.3869 - accuracy: 0.8275 - val_loss: 0.3393 - val_accuracy: 0.8560 - 40s/epoch - 64ms/step\n",
      "Epoch 7/50\n",
      "625/625 - 41s - loss: 0.3760 - accuracy: 0.8345 - val_loss: 0.3361 - val_accuracy: 0.8574 - 41s/epoch - 66ms/step\n",
      "Epoch 8/50\n",
      "625/625 - 40s - loss: 0.3721 - accuracy: 0.8352 - val_loss: 0.3154 - val_accuracy: 0.8672 - 40s/epoch - 64ms/step\n",
      "Epoch 9/50\n",
      "625/625 - 40s - loss: 0.3585 - accuracy: 0.8425 - val_loss: 0.3116 - val_accuracy: 0.8704 - 40s/epoch - 64ms/step\n",
      "Epoch 10/50\n",
      "625/625 - 40s - loss: 0.3521 - accuracy: 0.8443 - val_loss: 0.3117 - val_accuracy: 0.8672 - 40s/epoch - 63ms/step\n",
      "Epoch 11/50\n",
      "625/625 - 40s - loss: 0.3423 - accuracy: 0.8503 - val_loss: 0.3041 - val_accuracy: 0.8730 - 40s/epoch - 64ms/step\n",
      "Epoch 12/50\n",
      "625/625 - 41s - loss: 0.3375 - accuracy: 0.8529 - val_loss: 0.2993 - val_accuracy: 0.8728 - 41s/epoch - 65ms/step\n",
      "Epoch 13/50\n",
      "625/625 - 40s - loss: 0.3352 - accuracy: 0.8538 - val_loss: 0.2975 - val_accuracy: 0.8766 - 40s/epoch - 65ms/step\n",
      "Epoch 14/50\n",
      "625/625 - 40s - loss: 0.3248 - accuracy: 0.8605 - val_loss: 0.2983 - val_accuracy: 0.8774 - 40s/epoch - 65ms/step\n",
      "Epoch 15/50\n",
      "625/625 - 41s - loss: 0.3238 - accuracy: 0.8607 - val_loss: 0.3000 - val_accuracy: 0.8734 - 41s/epoch - 65ms/step\n",
      "Epoch 16/50\n",
      "625/625 - 42s - loss: 0.3196 - accuracy: 0.8603 - val_loss: 0.2936 - val_accuracy: 0.8772 - 42s/epoch - 67ms/step\n",
      "Epoch 17/50\n",
      "625/625 - 40s - loss: 0.3121 - accuracy: 0.8644 - val_loss: 0.2901 - val_accuracy: 0.8794 - 40s/epoch - 65ms/step\n",
      "Epoch 18/50\n",
      "625/625 - 41s - loss: 0.3061 - accuracy: 0.8683 - val_loss: 0.2905 - val_accuracy: 0.8812 - 41s/epoch - 65ms/step\n",
      "Epoch 19/50\n",
      "625/625 - 40s - loss: 0.3023 - accuracy: 0.8703 - val_loss: 0.2997 - val_accuracy: 0.8796 - 40s/epoch - 64ms/step\n",
      "Epoch 20/50\n",
      "625/625 - 40s - loss: 0.3007 - accuracy: 0.8709 - val_loss: 0.2926 - val_accuracy: 0.8788 - 40s/epoch - 64ms/step\n",
      "Epoch 21/50\n",
      "625/625 - 40s - loss: 0.2955 - accuracy: 0.8763 - val_loss: 0.2959 - val_accuracy: 0.8782 - 40s/epoch - 64ms/step\n",
      "Epoch 22/50\n",
      "625/625 - 40s - loss: 0.2981 - accuracy: 0.8737 - val_loss: 0.3035 - val_accuracy: 0.8786 - 40s/epoch - 64ms/step\n",
      "Epoch 23/50\n",
      "625/625 - 41s - loss: 0.2928 - accuracy: 0.8762 - val_loss: 0.2927 - val_accuracy: 0.8838 - 41s/epoch - 65ms/step\n",
      "Epoch 24/50\n",
      "625/625 - 41s - loss: 0.2864 - accuracy: 0.8776 - val_loss: 0.2870 - val_accuracy: 0.8856 - 41s/epoch - 65ms/step\n",
      "Epoch 25/50\n",
      "625/625 - 40s - loss: 0.2882 - accuracy: 0.8773 - val_loss: 0.3238 - val_accuracy: 0.8710 - 40s/epoch - 65ms/step\n",
      "Epoch 26/50\n",
      "625/625 - 40s - loss: 0.2793 - accuracy: 0.8813 - val_loss: 0.2841 - val_accuracy: 0.8848 - 40s/epoch - 65ms/step\n",
      "Epoch 27/50\n",
      "625/625 - 40s - loss: 0.2768 - accuracy: 0.8801 - val_loss: 0.2892 - val_accuracy: 0.8870 - 40s/epoch - 64ms/step\n",
      "Epoch 28/50\n",
      "625/625 - 40s - loss: 0.2711 - accuracy: 0.8864 - val_loss: 0.2935 - val_accuracy: 0.8860 - 40s/epoch - 64ms/step\n",
      "Epoch 29/50\n",
      "625/625 - 40s - loss: 0.2745 - accuracy: 0.8826 - val_loss: 0.2887 - val_accuracy: 0.8852 - 40s/epoch - 64ms/step\n",
      "Epoch 30/50\n",
      "625/625 - 40s - loss: 0.2689 - accuracy: 0.8873 - val_loss: 0.2894 - val_accuracy: 0.8820 - 40s/epoch - 64ms/step\n",
      "Epoch 31/50\n",
      "625/625 - 40s - loss: 0.2677 - accuracy: 0.8878 - val_loss: 0.2918 - val_accuracy: 0.8840 - 40s/epoch - 64ms/step\n",
      "Epoch 32/50\n",
      "625/625 - 40s - loss: 0.2667 - accuracy: 0.8892 - val_loss: 0.2909 - val_accuracy: 0.8866 - 40s/epoch - 64ms/step\n"
     ]
    }
   ],
   "source": [
    "# Fit model to training data\n",
    "history = model.fit(X_train, Y_train, epochs=50, validation_data=(X_test, Y_test), verbose=2, callbacks=[early_stopping])"
   ]
  },
  {
   "cell_type": "code",
   "execution_count": 11,
   "id": "44db6296",
   "metadata": {},
   "outputs": [
    {
     "name": "stdout",
     "output_type": "stream",
     "text": [
      "157/157 [==============================] - 3s 22ms/step - loss: 0.2909 - accuracy: 0.8866\n"
     ]
    },
    {
     "data": {
      "text/plain": [
       "[0.29085150361061096, 0.8866000175476074]"
      ]
     },
     "execution_count": 11,
     "metadata": {},
     "output_type": "execute_result"
    }
   ],
   "source": [
    "# Return prediction loss and accuracy\n",
    "model.evaluate(X_test, Y_test)"
   ]
  },
  {
   "cell_type": "code",
   "execution_count": 15,
   "id": "0d682818",
   "metadata": {},
   "outputs": [
    {
     "data": {
      "image/png": "[encoded data removed]",
      "text/plain": [
       "<Figure size 432x288 with 1 Axes>"
      ]
     },
     "metadata": {
      "needs_background": "light"
     },
     "output_type": "display_data"
    }
   ],
   "source": [
    "#Create training visualization\n",
    "val_accuracy = history.history['val_accuracy']\n",
    "loss = history.history['val_loss']\n",
    "accuracy = history.history['accuracy']\n",
    "epochs = range(1, len(val_accuracy) + 1)\n",
    "\n",
    "plt.plot(epochs, val_accuracy)\n",
    "plt.plot(epochs, loss)\n",
    "plt.title('Validation Performance')\n",
    "plt.xlabel(\"Epoch\")\n",
    "plt.ylabel('Accuracy/Loss')\n",
    "plt.legend(['test_accuracy', 'test_loss'])\n",
    "plt.show()"
   ]
  },
  {
   "cell_type": "code",
   "execution_count": 16,
   "id": "097a6775",
   "metadata": {},
   "outputs": [
    {
     "data": {
      "image/png": "[encoded data removed]",
      "text/plain": [
       "<Figure size 432x288 with 1 Axes>"
      ]
     },
     "metadata": {
      "needs_background": "light"
     },
     "output_type": "display_data"
    }
   ],
   "source": [
    "# Plot train accuracy vs validation accuracy\n",
    "plt.plot(epochs, accuracy)\n",
    "plt.plot(epochs, val_accuracy)\n",
    "plt.title('Train vs Validation accuracy')\n",
    "plt.ylabel('Accuracy')\n",
    "plt.xlabel('Epoch')\n",
    "plt.legend(['Train', 'Validation'])\n",
    "plt.show()"
   ]
  },
  {
   "cell_type": "markdown",
   "id": "863645a9",
   "metadata": {},
   "source": [
    "- ***Model prediction accuracy:*** 88.7%\n",
    "- ***Model prediction loss:*** 29.1%\n",
    "- ***Total Fitting Time:*** 13 minutes"
   ]
  },
  {
   "cell_type": "markdown",
   "id": "045f738c",
   "metadata": {},
   "source": [
    "### Citations"
   ]
  },
  {
   "cell_type": "markdown",
   "id": "0d1fc7f0",
   "metadata": {},
   "source": [
    "Jeffrey Pennington, Richard Socher, and Christopher D. Manning. 2014. GloVe: Global Vectors for Word Representation\n",
    "\n",
    "Oliinyk, Halyna (2017). https://towardsdatascience.com/word-embeddings-exploration-explanation-and-exploitation-with-code-in-python-5dac99d5d795.(\"Word embeddings: exploration, explanation, and exploitation (with code in Python)\")"
   ]
  }
 ],
 "metadata": {
  "kernelspec": {
   "display_name": "Python [conda env:env_NLP]",
   "language": "python",
   "name": "conda-env-env_NLP-py"
  },
  "language_info": {
   "codemirror_mode": {
    "name": "ipython",
    "version": 3
   },
   "file_extension": ".py",
   "mimetype": "text/x-python",
   "name": "python",
   "nbconvert_exporter": "python",
   "pygments_lexer": "ipython3",
   "version": "3.8.12"
  }
 },
 "nbformat": 4,
 "nbformat_minor": 5
}
